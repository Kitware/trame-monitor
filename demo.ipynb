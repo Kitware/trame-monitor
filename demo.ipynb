{
 "cells": [
  {
   "cell_type": "code",
   "execution_count": 1,
   "id": "2988a72a-bbd1-4379-91d2-d51f0e564167",
   "metadata": {},
   "outputs": [
    {
     "data": {
      "text/html": [
       "\n",
       "        <iframe\n",
       "            width=\"100%\"\n",
       "            height=\"600\"\n",
       "            src=\"http://localhost:63314/index.html\"\n",
       "            frameborder=\"0\"\n",
       "            allowfullscreen\n",
       "            \n",
       "        ></iframe>\n",
       "        "
      ],
      "text/plain": [
       "<IPython.lib.display.IFrame at 0x107407550>"
      ]
     },
     "metadata": {},
     "output_type": "display_data"
    }
   ],
   "source": [
    "from trame_monitor.app.jupyter import show as monitor\n",
    "\n",
    "monitor()"
   ]
  },
  {
   "cell_type": "code",
   "execution_count": 2,
   "id": "bc0e6ab3-cf4b-49eb-a789-2ca1ddfe8a1e",
   "metadata": {},
   "outputs": [
    {
     "name": "stdout",
     "output_type": "stream",
     "text": [
      "{'commit_hash': '55e81b920',\n",
      " 'commit_source': 'installation',\n",
      " 'default_encoding': 'utf-8',\n",
      " 'ipython_path': '/Users/sebastien.jourdain/Documents/code/open-source/Web/trame-v2/trame-monitor/.venv/lib/python3.9/site-packages/IPython',\n",
      " 'ipython_version': '8.3.0',\n",
      " 'os_name': 'posix',\n",
      " 'platform': 'macOS-12.3.1-arm64-arm-64bit',\n",
      " 'sys_executable': '/Users/sebastien.jourdain/Documents/code/open-source/Web/trame-v2/trame-monitor/.venv/bin/python3.9',\n",
      " 'sys_platform': 'darwin',\n",
      " 'sys_version': '3.9.7 | packaged by conda-forge | (default, Sep 29 2021, '\n",
      "                '19:24:02) \\n'\n",
      "                '[Clang 11.1.0 ]'}\n"
     ]
    }
   ],
   "source": [
    "import IPython\n",
    "print(IPython.sys_info())"
   ]
  },
  {
   "cell_type": "code",
   "execution_count": 3,
   "id": "c96c6468-85f4-4ad4-8a54-ac977c269906",
   "metadata": {},
   "outputs": [
    {
     "name": "stdout",
     "output_type": "stream",
     "text": [
      "['Application', 'InteractiveShell', '__author__', '__builtins__', '__cached__', '__doc__', '__file__', '__license__', '__loader__', '__name__', '__package__', '__patched_cves__', '__path__', '__spec__', '__version__', 'core', 'display', 'embed', 'embed_kernel', 'extensions', 'extract_module_locals', 'get_ipython', 'lib', 'os', 'paths', 'release', 'start_ipython', 'start_kernel', 'sys', 'sys_info', 'terminal', 'testing', 'utils', 'version_info']\n"
     ]
    }
   ],
   "source": [
    "print(dir(IPython))\n"
   ]
  },
  {
   "cell_type": "code",
   "execution_count": 5,
   "id": "dfa64ded-1ab7-4c86-9b4e-2675cb304240",
   "metadata": {},
   "outputs": [
    {
     "name": "stdout",
     "output_type": "stream",
     "text": [
      "(8, 3, 0, '')\n"
     ]
    }
   ],
   "source": [
    "print(IPython.version_info)"
   ]
  },
  {
   "cell_type": "code",
   "execution_count": null,
   "id": "d3ebb0a1-74db-439f-8210-b89118d6e6a1",
   "metadata": {},
   "outputs": [],
   "source": []
  }
 ],
 "metadata": {
  "kernelspec": {
   "display_name": "Python 3 (ipykernel)",
   "language": "python",
   "name": "python3"
  },
  "language_info": {
   "codemirror_mode": {
    "name": "ipython",
    "version": 3
   },
   "file_extension": ".py",
   "mimetype": "text/x-python",
   "name": "python",
   "nbconvert_exporter": "python",
   "pygments_lexer": "ipython3",
   "version": "3.9.7"
  }
 },
 "nbformat": 4,
 "nbformat_minor": 5
}
